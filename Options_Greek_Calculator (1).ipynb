{
 "cells": [
  {
   "cell_type": "code",
   "execution_count": 1,
   "id": "0e1a3ac7-594c-4eb7-b458-0ac98dfe9eeb",
   "metadata": {},
   "outputs": [
    {
     "name": "stdout",
     "output_type": "stream",
     "text": [
      "Requirement already satisfied: yfinance in c:\\users\\jagge\\anaconda3\\lib\\site-packages (0.2.65)\n",
      "Requirement already satisfied: numpy in c:\\users\\jagge\\anaconda3\\lib\\site-packages (2.1.3)\n",
      "Requirement already satisfied: scipy in c:\\users\\jagge\\anaconda3\\lib\\site-packages (1.15.3)\n",
      "Requirement already satisfied: pandas>=1.3.0 in c:\\users\\jagge\\anaconda3\\lib\\site-packages (from yfinance) (2.2.3)\n",
      "Requirement already satisfied: requests>=2.31 in c:\\users\\jagge\\anaconda3\\lib\\site-packages (from yfinance) (2.32.3)\n",
      "Requirement already satisfied: multitasking>=0.0.7 in c:\\users\\jagge\\anaconda3\\lib\\site-packages (from yfinance) (0.0.11)\n",
      "Requirement already satisfied: platformdirs>=2.0.0 in c:\\users\\jagge\\anaconda3\\lib\\site-packages (from yfinance) (4.3.7)\n",
      "Requirement already satisfied: pytz>=2022.5 in c:\\users\\jagge\\anaconda3\\lib\\site-packages (from yfinance) (2024.1)\n",
      "Requirement already satisfied: frozendict>=2.3.4 in c:\\users\\jagge\\anaconda3\\lib\\site-packages (from yfinance) (2.4.2)\n",
      "Requirement already satisfied: peewee>=3.16.2 in c:\\users\\jagge\\anaconda3\\lib\\site-packages (from yfinance) (3.18.1)\n",
      "Requirement already satisfied: beautifulsoup4>=4.11.1 in c:\\users\\jagge\\anaconda3\\lib\\site-packages (from yfinance) (4.12.3)\n",
      "Requirement already satisfied: curl_cffi>=0.7 in c:\\users\\jagge\\anaconda3\\lib\\site-packages (from yfinance) (0.11.4)\n",
      "Requirement already satisfied: protobuf>=3.19.0 in c:\\users\\jagge\\anaconda3\\lib\\site-packages (from yfinance) (5.29.3)\n",
      "Requirement already satisfied: websockets>=13.0 in c:\\users\\jagge\\anaconda3\\lib\\site-packages (from yfinance) (15.0.1)\n",
      "Requirement already satisfied: soupsieve>1.2 in c:\\users\\jagge\\anaconda3\\lib\\site-packages (from beautifulsoup4>=4.11.1->yfinance) (2.5)\n",
      "Requirement already satisfied: cffi>=1.12.0 in c:\\users\\jagge\\anaconda3\\lib\\site-packages (from curl_cffi>=0.7->yfinance) (1.17.1)\n",
      "Requirement already satisfied: certifi>=2024.2.2 in c:\\users\\jagge\\anaconda3\\lib\\site-packages (from curl_cffi>=0.7->yfinance) (2025.6.15)\n",
      "Requirement already satisfied: pycparser in c:\\users\\jagge\\anaconda3\\lib\\site-packages (from cffi>=1.12.0->curl_cffi>=0.7->yfinance) (2.21)\n",
      "Requirement already satisfied: python-dateutil>=2.8.2 in c:\\users\\jagge\\anaconda3\\lib\\site-packages (from pandas>=1.3.0->yfinance) (2.9.0.post0)\n",
      "Requirement already satisfied: tzdata>=2022.7 in c:\\users\\jagge\\anaconda3\\lib\\site-packages (from pandas>=1.3.0->yfinance) (2025.2)\n",
      "Requirement already satisfied: six>=1.5 in c:\\users\\jagge\\anaconda3\\lib\\site-packages (from python-dateutil>=2.8.2->pandas>=1.3.0->yfinance) (1.17.0)\n",
      "Requirement already satisfied: charset-normalizer<4,>=2 in c:\\users\\jagge\\anaconda3\\lib\\site-packages (from requests>=2.31->yfinance) (3.3.2)\n",
      "Requirement already satisfied: idna<4,>=2.5 in c:\\users\\jagge\\anaconda3\\lib\\site-packages (from requests>=2.31->yfinance) (3.7)\n",
      "Requirement already satisfied: urllib3<3,>=1.21.1 in c:\\users\\jagge\\anaconda3\\lib\\site-packages (from requests>=2.31->yfinance) (2.3.0)\n",
      "Note: you may need to restart the kernel to use updated packages.\n"
     ]
    }
   ],
   "source": [
    "%pip install yfinance numpy scipy\n",
    "import yfinance as yf\n",
    "import numpy as np\n",
    "from scipy.stats import norm\n",
    "from datetime import datetime\n"
   ]
  },
  {
   "cell_type": "code",
   "execution_count": 2,
   "id": "4f7d509a-adaf-4254-b9be-cbfb185acc26",
   "metadata": {},
   "outputs": [
    {
     "name": "stdin",
     "output_type": "stream",
     "text": [
      "Enter a stock ticker:  SPY\n",
      "Option type (call or put):  Call\n"
     ]
    },
    {
     "name": "stdout",
     "output_type": "stream",
     "text": [
      "Available expiration dates: ('2025-07-08', '2025-07-09', '2025-07-10', '2025-07-11', '2025-07-14', '2025-07-15', '2025-07-16', '2025-07-17', '2025-07-18', '2025-07-25', '2025-07-31', '2025-08-01', '2025-08-08', '2025-08-15', '2025-08-22', '2025-08-29', '2025-09-19', '2025-09-30', '2025-10-17', '2025-10-31', '2025-11-21', '2025-11-28', '2025-12-19', '2025-12-31', '2026-01-16', '2026-03-20', '2026-03-31', '2026-06-18', '2026-06-30', '2026-09-18', '2026-12-18', '2027-01-15', '2027-12-17')\n"
     ]
    },
    {
     "name": "stdin",
     "output_type": "stream",
     "text": [
      "Pick expiration date from above:  2025-10-31\n"
     ]
    },
    {
     "name": "stdout",
     "output_type": "stream",
     "text": [
      "   strike  lastPrice  impliedVolatility\n",
      "0   370.0     242.92           0.577763\n",
      "1   380.0     221.95           0.558049\n",
      "2   385.0     221.03           0.549992\n",
      "3   390.0     213.65           0.540837\n",
      "4   400.0     203.80           0.522405\n"
     ]
    },
    {
     "name": "stdin",
     "output_type": "stream",
     "text": [
      "Pick a strike from the list above:  390\n"
     ]
    },
    {
     "name": "stdout",
     "output_type": "stream",
     "text": [
      "\n",
      "Greeks for SPY CALL option (Strike: 390.0, Exp: 2025-10-31)\n",
      "Delta: 0.9593\n",
      "Gamma: 0.0005\n",
      "Theta: -44.0148\n",
      "Vega: 0.3032\n",
      "Rho: 1.1095\n"
     ]
    }
   ],
   "source": [
    "# Black-Scholes Greeks\n",
    "def calculate_greeks(S, K, T, r, sigma, option_type):\n",
    "    d1 = (np.log(S / K) + (r + 0.5 * sigma ** 2) * T) / (sigma * np.sqrt(T))\n",
    "    d2 = d1 - sigma * np.sqrt(T)\n",
    "\n",
    "    if option_type.lower() == 'call':\n",
    "        delta = norm.cdf(d1)\n",
    "        theta = (-S * norm.pdf(d1) * sigma / (2 * np.sqrt(T))) - r * K * np.exp(-r * T) * norm.cdf(d2)\n",
    "        rho = K * T * np.exp(-r * T) * norm.cdf(d2)\n",
    "    elif option_type.lower() == 'put':\n",
    "        delta = norm.cdf(d1) - 1\n",
    "        theta = (-S * norm.pdf(d1) * sigma / (2 * np.sqrt(T))) + r * K * np.exp(-r * T) * norm.cdf(-d2)\n",
    "        rho = -K * T * np.exp(-r * T) * norm.cdf(-d2)\n",
    "    else:\n",
    "        raise ValueError(\"Option type must be 'call' or 'put'\")\n",
    "\n",
    "    gamma = norm.pdf(d1) / (S * sigma * np.sqrt(T))\n",
    "    vega = S * norm.pdf(d1) * np.sqrt(T)\n",
    "\n",
    "    return {\n",
    "        'Delta': delta,\n",
    "        'Gamma': gamma,\n",
    "        'Theta': theta,\n",
    "        'Vega': vega / 100,   # scaled for 1% change\n",
    "        'Rho': rho / 100      # scaled for 1% change\n",
    "    }\n",
    "\n",
    "# Get user input\n",
    "ticker = input(\"Enter a stock ticker: \").upper()\n",
    "option_type = input(\"Option type (call or put): \").lower()\n",
    "\n",
    "stock = yf.Ticker(ticker)\n",
    "spot_price = stock.history(period=\"1d\")['Close'].iloc[-1]\n",
    "\n",
    "# Show available expiration dates\n",
    "options = stock.options\n",
    "print(f\"Available expiration dates: {options}\")\n",
    "exp_date = input(\"Pick expiration date from above: \")\n",
    "\n",
    "# Choose a strike\n",
    "option_chain = stock.option_chain(exp_date)\n",
    "chain = option_chain.calls if option_type == 'call' else option_chain.puts\n",
    "print(chain[['strike', 'lastPrice', 'impliedVolatility']].head())\n",
    "\n",
    "strike = float(input(\"Pick a strike from the list above: \"))\n",
    "option_row = chain[chain['strike'] == strike].iloc[0]\n",
    "\n",
    "# Inputs for BSM\n",
    "K = strike\n",
    "S = spot_price\n",
    "T = (datetime.strptime(exp_date, \"%Y-%m-%d\") - datetime.today()).days / 365\n",
    "r = 0.05  # risk-free rate (can be dynamic)\n",
    "sigma = option_row['impliedVolatility']\n",
    "\n",
    "# Calculate Greeks\n",
    "greeks = calculate_greeks(S, K, T, r, sigma, option_type)\n",
    "print(f\"\\nGreeks for {ticker} {option_type.upper()} option (Strike: {K}, Exp: {exp_date})\")\n",
    "for greek, value in greeks.items():\n",
    "    print(f\"{greek}: {value:.4f}\")\n"
   ]
  },
  {
   "cell_type": "code",
   "execution_count": null,
   "id": "4a938095-75ff-46c5-b38f-894d613adde6",
   "metadata": {},
   "outputs": [],
   "source": []
  },
  {
   "cell_type": "code",
   "execution_count": null,
   "id": "60f3958f-31b3-4e0c-adcd-84257db91c0e",
   "metadata": {},
   "outputs": [],
   "source": []
  }
 ],
 "metadata": {
  "kernelspec": {
   "display_name": "Python 3 (ipykernel)",
   "language": "python",
   "name": "python3"
  },
  "language_info": {
   "codemirror_mode": {
    "name": "ipython",
    "version": 3
   },
   "file_extension": ".py",
   "mimetype": "text/x-python",
   "name": "python",
   "nbconvert_exporter": "python",
   "pygments_lexer": "ipython3",
   "version": "3.13.5"
  }
 },
 "nbformat": 4,
 "nbformat_minor": 5
}
