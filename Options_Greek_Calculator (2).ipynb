{
 "cells": [
  {
   "cell_type": "code",
   "execution_count": null,
   "id": "0e1a3ac7-594c-4eb7-b458-0ac98dfe9eeb",
   "metadata": {},
   "outputs": [],
   "source": [
    "%pip install yfinance numpy scipy\n",
    "import yfinance as yf\n",
    "import numpy as np\n",
    "from scipy.stats import norm\n",
    "from datetime import datetime\n"
   ]
  },
  {
   "cell_type": "code",
   "execution_count": null,
   "id": "4f7d509a-adaf-4254-b9be-cbfb185acc26",
   "metadata": {},
   "outputs": [],
   "source": [
    "# Black-Scholes Greeks\n",
    "def calculate_greeks(S, K, T, r, sigma, option_type):\n",
    "    d1 = (np.log(S / K) + (r + 0.5 * sigma ** 2) * T) / (sigma * np.sqrt(T))\n",
    "    d2 = d1 - sigma * np.sqrt(T)\n",
    "\n",
    "    if option_type.lower() == 'call':\n",
    "        delta = norm.cdf(d1)\n",
    "        theta = (-S * norm.pdf(d1) * sigma / (2 * np.sqrt(T))) - r * K * np.exp(-r * T) * norm.cdf(d2)\n",
    "        rho = K * T * np.exp(-r * T) * norm.cdf(d2)\n",
    "    elif option_type.lower() == 'put':\n",
    "        delta = norm.cdf(d1) - 1\n",
    "        theta = (-S * norm.pdf(d1) * sigma / (2 * np.sqrt(T))) + r * K * np.exp(-r * T) * norm.cdf(-d2)\n",
    "        rho = -K * T * np.exp(-r * T) * norm.cdf(-d2)\n",
    "    else:\n",
    "        raise ValueError(\"Option type must be 'call' or 'put'\")\n",
    "\n",
    "    gamma = norm.pdf(d1) / (S * sigma * np.sqrt(T))\n",
    "    vega = S * norm.pdf(d1) * np.sqrt(T)\n",
    "\n",
    "    return {\n",
    "        'Delta': delta,\n",
    "        'Gamma': gamma,\n",
    "        'Theta': theta,\n",
    "        'Vega': vega / 100,   # scaled for 1% change\n",
    "        'Rho': rho / 100      # scaled for 1% change\n",
    "    }\n",
    "\n",
    "# Get user input\n",
    "ticker = input(\"Enter a stock ticker: \").upper()\n",
    "option_type = input(\"Option type (call or put): \").lower()\n",
    "\n",
    "stock = yf.Ticker(ticker)\n",
    "spot_price = stock.history(period=\"1d\")['Close'].iloc[-1]\n",
    "\n",
    "# Show available expiration dates\n",
    "options = stock.options\n",
    "print(f\"Available expiration dates: {options}\")\n",
    "exp_date = input(\"Pick expiration date from above: \")\n",
    "\n",
    "# Choose a strike\n",
    "option_chain = stock.option_chain(exp_date)\n",
    "chain = option_chain.calls if option_type == 'call' else option_chain.puts\n",
    "print(chain[['strike', 'lastPrice', 'impliedVolatility']].head())\n",
    "\n",
    "strike = float(input(\"Pick a strike from the list above: \"))\n",
    "option_row = chain[chain['strike'] == strike].iloc[0]\n",
    "\n",
    "# Inputs for BSM\n",
    "K = strike\n",
    "S = spot_price\n",
    "T = (datetime.strptime(exp_date, \"%Y-%m-%d\") - datetime.today()).days / 365\n",
    "r = 0.05  # risk-free rate (can be dynamic)\n",
    "sigma = option_row['impliedVolatility']\n",
    "\n",
    "# Calculate Greeks\n",
    "greeks = calculate_greeks(S, K, T, r, sigma, option_type)\n",
    "print(f\"\\nGreeks for {ticker} {option_type.upper()} option (Strike: {K}, Exp: {exp_date})\")\n",
    "for greek, value in greeks.items():\n",
    "    print(f\"{greek}: {value:.4f}\")\n"
   ]
  },
  {
   "cell_type": "code",
   "execution_count": null,
   "id": "4a938095-75ff-46c5-b38f-894d613adde6",
   "metadata": {},
   "outputs": [],
   "source": []
  },
  {
   "cell_type": "code",
   "execution_count": null,
   "id": "60f3958f-31b3-4e0c-adcd-84257db91c0e",
   "metadata": {},
   "outputs": [],
   "source": []
  }
 ],
 "metadata": {
  "kernelspec": {
   "display_name": "Python 3 (ipykernel)",
   "language": "python",
   "name": "python3"
  },
  "language_info": {
   "codemirror_mode": {
    "name": "ipython",
    "version": 3
   },
   "file_extension": ".py",
   "mimetype": "text/x-python",
   "name": "python",
   "nbconvert_exporter": "python",
   "pygments_lexer": "ipython3",
   "version": "3.13.5"
  }
 },
 "nbformat": 4,
 "nbformat_minor": 5
}
